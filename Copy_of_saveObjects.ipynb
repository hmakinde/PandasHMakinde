{
  "nbformat": 4,
  "nbformat_minor": 0,
  "metadata": {
    "kernelspec": {
      "display_name": "Python 3",
      "language": "python",
      "name": "python3"
    },
    "language_info": {
      "codemirror_mode": {
        "name": "ipython",
        "version": 3
      },
      "file_extension": ".py",
      "mimetype": "text/x-python",
      "name": "python",
      "nbconvert_exporter": "python",
      "pygments_lexer": "ipython3",
      "version": "3.7.3"
    },
    "colab": {
      "name": "Copy of saveObjects.ipynb",
      "provenance": [],
      "include_colab_link": true
    }
  },
  "cells": [
    {
      "cell_type": "markdown",
      "metadata": {
        "id": "view-in-github",
        "colab_type": "text"
      },
      "source": [
        "<a href=\"https://colab.research.google.com/github/hmakinde/PandasHMakinde/blob/master/Copy_of_saveObjects.ipynb\" target=\"_parent\"><img src=\"https://colab.research.google.com/assets/colab-badge.svg\" alt=\"Open In Colab\"/></a>"
      ]
    },
    {
      "cell_type": "markdown",
      "metadata": {
        "id": "dO38cvI-91n0"
      },
      "source": [
        "# <br>json and pickle files"
      ]
    },
    {
      "cell_type": "markdown",
      "metadata": {
        "id": "WSP6Ino_91n2"
      },
      "source": [
        "Today we're talking about saving Python objects like dictionaries, lists and strings."
      ]
    },
    {
      "cell_type": "markdown",
      "metadata": {
        "id": "sLB2C8iG91n3"
      },
      "source": [
        "If you haven't already found a need to save Python objects, you will."
      ]
    },
    {
      "cell_type": "markdown",
      "metadata": {
        "id": "KCp9TPY691n3"
      },
      "source": [
        "If your Jupyter notebook is getting really long and slow, save that dictionary that you carefully built, shut down your kernel, and continue your analysis in another notebook. "
      ]
    },
    {
      "cell_type": "markdown",
      "metadata": {
        "id": "DCddmp7191n3"
      },
      "source": [
        "My general advice is, at a minimum, to be sure to keep data collection, cleaning, analysis, and visualization in different notebooks. It is also often good to separate different analyses, especially if they produce large objects that are saved in memory, as this will slow down your notebook."
      ]
    },
    {
      "cell_type": "markdown",
      "metadata": {
        "id": "gKLYHNk591n4"
      },
      "source": [
        "### <br><br>Saving and loading objects using built-in Python functions"
      ]
    },
    {
      "cell_type": "markdown",
      "metadata": {
        "id": "MV6oh66c91n4"
      },
      "source": [
        "You might already save and load dictionaries and lists with your own code by **writing** text files, and then **reading** and parsing text files."
      ]
    },
    {
      "cell_type": "markdown",
      "metadata": {
        "id": "PgDCOejr91n5"
      },
      "source": [
        "For example:"
      ]
    },
    {
      "cell_type": "code",
      "metadata": {
        "id": "e_Eb8sLz91n5"
      },
      "source": [
        "speed_dict = {\"Peregrine falcon\": \"242 mph\", \n",
        "              \"Golden eagle\": \"150–200 mph\", \n",
        "              \"White-throated needletail swift\": \"105 mph\", \n",
        "              \"Eurasian hobby\": \"100 mph\", \n",
        "              \"Mexican free-tailed bat\": \"100 mph\", \n",
        "              \"Frigatebird\": \"95 mph\", \n",
        "              \"Rock dove (pigeon)\": \"92.5 mph\", \n",
        "              \"Spur-winged goose\": \"88 mph\", \n",
        "              \"Gyrfalcon\": \"80 mph\", \n",
        "              \"Grey-headed albatross\": \"79 mph\", \n",
        "              \"Cheetah\": \"68.0–75.0 mph\", \n",
        "              \"Sailfish\": \"67.85 mph\", \n",
        "              \"Anna's hummingbird\": \"61.06 mph\", \n",
        "              \"Swordfish\": \"60 mph\", \n",
        "              \"Pronghorn\": \"55.0 mph\", \n",
        "              \"Springbok\": \"55 mph\", \n",
        "              \"Quarter Horse\": \"55.0 mph\", \n",
        "              \"Blue wildebeest\": \"50.0 mph\", \n",
        "              \"Lion\": \"50.0 mph\", \n",
        "              \"Blackbuck\": \"50 mph\"}"
      ],
      "execution_count": null,
      "outputs": []
    },
    {
      "cell_type": "markdown",
      "metadata": {
        "id": "qw4zh46a91n6"
      },
      "source": [
        "<br>We can open a new file, loop through the keys and values in our dictionary, and write them to the file:"
      ]
    },
    {
      "cell_type": "code",
      "metadata": {
        "id": "VAaxV1FH91n7"
      },
      "source": [
        "with open(\"fastestAnimals.txt\", \"w\") as f:\n",
        "    for k, v in speed_dict.items():\n",
        "        f.write(k + \"\\t\" + v + \"\\n\")"
      ],
      "execution_count": null,
      "outputs": []
    },
    {
      "cell_type": "markdown",
      "metadata": {
        "id": "GYsn5i7C91n7"
      },
      "source": [
        "<br><br>Then we can read in the file and change its contents into a Python object. I often use a list comprehension or dictionary comprehension to change .txt files into a list or dictionary."
      ]
    },
    {
      "cell_type": "code",
      "metadata": {
        "id": "4spjsIqK91n7"
      },
      "source": [
        "with open(\"fastestAnimals.txt\", \"r\") as f:\n",
        "    txt_speed_dict = {line.split(\"\\t\")[0]: line.rstrip(\"\\n\").split(\"\\t\")[1] for line in f}"
      ],
      "execution_count": null,
      "outputs": []
    },
    {
      "cell_type": "code",
      "metadata": {
        "id": "Jpa4jhZN91n8",
        "colab": {
          "base_uri": "https://localhost:8080/"
        },
        "outputId": "1cca3be0-cba5-4960-8ada-ee9d9033f63c"
      },
      "source": [
        "txt_speed_dict"
      ],
      "execution_count": null,
      "outputs": [
        {
          "output_type": "execute_result",
          "data": {
            "text/plain": [
              "{\"Anna's hummingbird\": '61.06 mph',\n",
              " 'Blackbuck': '50 mph',\n",
              " 'Blue wildebeest': '50.0 mph',\n",
              " 'Cheetah': '68.0–75.0 mph',\n",
              " 'Eurasian hobby': '100 mph',\n",
              " 'Frigatebird': '95 mph',\n",
              " 'Golden eagle': '150–200 mph',\n",
              " 'Grey-headed albatross': '79 mph',\n",
              " 'Gyrfalcon': '80 mph',\n",
              " 'Lion': '50.0 mph',\n",
              " 'Mexican free-tailed bat': '100 mph',\n",
              " 'Peregrine falcon': '242 mph',\n",
              " 'Pronghorn': '55.0 mph',\n",
              " 'Quarter Horse': '55.0 mph',\n",
              " 'Rock dove (pigeon)': '92.5 mph',\n",
              " 'Sailfish': '67.85 mph',\n",
              " 'Springbok': '55 mph',\n",
              " 'Spur-winged goose': '88 mph',\n",
              " 'Swordfish': '60 mph',\n",
              " 'White-throated needletail swift': '105 mph'}"
            ]
          },
          "metadata": {
            "tags": []
          },
          "execution_count": 4
        }
      ]
    },
    {
      "cell_type": "markdown",
      "metadata": {
        "id": "wWYAFIuy91n8"
      },
      "source": [
        "<br><br>**Do you have to write your own code to save and then recreate these objects? Is there something faster than looping through all the items?**"
      ]
    },
    {
      "cell_type": "markdown",
      "metadata": {
        "id": "HgVwgYp591n8"
      },
      "source": [
        "### <br><br>Serializing Python objects"
      ]
    },
    {
      "cell_type": "markdown",
      "metadata": {
        "id": "T0QT_5zR91n8"
      },
      "source": [
        "The process of converting a Python object into a format that can be stored is called **serialization**. The process of reconstructing that data is called **deserialization**."
      ]
    },
    {
      "cell_type": "markdown",
      "metadata": {
        "id": "MWqQZ3xz91n9"
      },
      "source": [
        "We will cover two different file formats for serialization: pickle and json. There are now many other formats for serializing data, but these are two of the most recognizable formats, and they have very simple commands. <br><br>First let's go over the differences between the two and why you might want to use one or the other."
      ]
    },
    {
      "cell_type": "markdown",
      "metadata": {
        "id": "tUrEkDvT91n9"
      },
      "source": [
        "#### <br><br>pickle"
      ]
    },
    {
      "cell_type": "markdown",
      "metadata": {
        "id": "5ZKBol6F91n9"
      },
      "source": [
        "- commonly ends in .pkl or .pickle\n",
        "- stores objects in binary format\n",
        "- can be used to save any Python object, including your object classes and functions\n",
        "- pickle objects can only be opened in Python\n",
        "- is binary, so is not human readable - you can't open the files and read the data\n",
        "- WARNING: can be used to store malicious code!!! So never ever open pickle files you receive from someone else. Only open your own pickle files, and only if no one else has had access to them. "
      ]
    },
    {
      "cell_type": "markdown",
      "metadata": {
        "id": "ZTnBz6AX91n9"
      },
      "source": [
        "#### <br><br>json"
      ]
    },
    {
      "cell_type": "markdown",
      "metadata": {
        "id": "EYhBnyI-91n9"
      },
      "source": [
        "- ends in .json\n",
        "- can be used to store strings, integers, floats, lists, dictionaries, tuples, and booleans. Cannot store classes or functions\n",
        "- can be opened in other languages\n",
        "- is human readable - you can look at the actual file and read your data\n",
        "- cannot be used to store malicious code\n",
        "- usually a little faster to write and read than pickle"
      ]
    },
    {
      "cell_type": "markdown",
      "metadata": {
        "id": "35fvFPHS91n-"
      },
      "source": [
        "### <br><br>Let's practice with pickle."
      ]
    },
    {
      "cell_type": "code",
      "metadata": {
        "id": "_fUEHJ9G91n-",
        "colab": {
          "base_uri": "https://localhost:8080/"
        },
        "outputId": "5f431fde-9ff5-454d-c850-69be3bca9e7f"
      },
      "source": [
        "speed_dict"
      ],
      "execution_count": null,
      "outputs": [
        {
          "output_type": "execute_result",
          "data": {
            "text/plain": [
              "{\"Anna's hummingbird\": '61.06 mph',\n",
              " 'Blackbuck': '50 mph',\n",
              " 'Blue wildebeest': '50.0 mph',\n",
              " 'Cheetah': '68.0–75.0 mph',\n",
              " 'Eurasian hobby': '100 mph',\n",
              " 'Frigatebird': '95 mph',\n",
              " 'Golden eagle': '150–200 mph',\n",
              " 'Grey-headed albatross': '79 mph',\n",
              " 'Gyrfalcon': '80 mph',\n",
              " 'Lion': '50.0 mph',\n",
              " 'Mexican free-tailed bat': '100 mph',\n",
              " 'Peregrine falcon': '242 mph',\n",
              " 'Pronghorn': '55.0 mph',\n",
              " 'Quarter Horse': '55.0 mph',\n",
              " 'Rock dove (pigeon)': '92.5 mph',\n",
              " 'Sailfish': '67.85 mph',\n",
              " 'Springbok': '55 mph',\n",
              " 'Spur-winged goose': '88 mph',\n",
              " 'Swordfish': '60 mph',\n",
              " 'White-throated needletail swift': '105 mph'}"
            ]
          },
          "metadata": {
            "tags": []
          },
          "execution_count": 5
        }
      ]
    },
    {
      "cell_type": "markdown",
      "metadata": {
        "id": "rgVgAy6391n-"
      },
      "source": [
        "<br>First, we import the pickle module."
      ]
    },
    {
      "cell_type": "code",
      "metadata": {
        "id": "6Lj9lD4a91n-"
      },
      "source": [
        "import pickle"
      ],
      "execution_count": null,
      "outputs": []
    },
    {
      "cell_type": "markdown",
      "metadata": {
        "id": "azX9kBAo91n-"
      },
      "source": [
        "<br>To write our dictionary to a pickle file, we open the filename in write mode using a with statement, but we have to open in **write binary mode**."
      ]
    },
    {
      "cell_type": "markdown",
      "metadata": {
        "id": "e57VvZVL91n-"
      },
      "source": [
        "After our with statement, we **dump** the data into the pickle file."
      ]
    },
    {
      "cell_type": "code",
      "metadata": {
        "id": "oLtrEqNH91n_"
      },
      "source": [
        "with open(\"fastestAnimals.pkl\", \"wb\") as f:\n",
        "    pickle.dump(speed_dict, f)"
      ],
      "execution_count": null,
      "outputs": []
    },
    {
      "cell_type": "markdown",
      "metadata": {
        "id": "PHw0_GU_91n_"
      },
      "source": [
        "<br>To load a pickle file, we use the same syntax, except we open the file in **read binary mode** and we **load** the data."
      ]
    },
    {
      "cell_type": "code",
      "metadata": {
        "id": "0XesFrS791n_"
      },
      "source": [
        "with open(\"fastestAnimals.pkl\", \"rb\") as f:\n",
        "    pkl_speed_dict = pickle.load(f)"
      ],
      "execution_count": null,
      "outputs": []
    },
    {
      "cell_type": "code",
      "metadata": {
        "id": "xpf5SSV991n_",
        "colab": {
          "base_uri": "https://localhost:8080/"
        },
        "outputId": "da28ea3f-4c3a-4248-ab2e-b293a3b019b3"
      },
      "source": [
        "pkl_speed_dict"
      ],
      "execution_count": null,
      "outputs": [
        {
          "output_type": "execute_result",
          "data": {
            "text/plain": [
              "{\"Anna's hummingbird\": '61.06 mph',\n",
              " 'Blackbuck': '50 mph',\n",
              " 'Blue wildebeest': '50.0 mph',\n",
              " 'Cheetah': '68.0–75.0 mph',\n",
              " 'Eurasian hobby': '100 mph',\n",
              " 'Frigatebird': '95 mph',\n",
              " 'Golden eagle': '150–200 mph',\n",
              " 'Grey-headed albatross': '79 mph',\n",
              " 'Gyrfalcon': '80 mph',\n",
              " 'Lion': '50.0 mph',\n",
              " 'Mexican free-tailed bat': '100 mph',\n",
              " 'Peregrine falcon': '242 mph',\n",
              " 'Pronghorn': '55.0 mph',\n",
              " 'Quarter Horse': '55.0 mph',\n",
              " 'Rock dove (pigeon)': '92.5 mph',\n",
              " 'Sailfish': '67.85 mph',\n",
              " 'Springbok': '55 mph',\n",
              " 'Spur-winged goose': '88 mph',\n",
              " 'Swordfish': '60 mph',\n",
              " 'White-throated needletail swift': '105 mph'}"
            ]
          },
          "metadata": {
            "tags": []
          },
          "execution_count": 11
        }
      ]
    },
    {
      "cell_type": "markdown",
      "metadata": {
        "id": "LmQHcpQr91n_"
      },
      "source": [
        "### <br><br>Pickle Exercise"
      ]
    },
    {
      "cell_type": "code",
      "metadata": {
        "id": "PtyliUgi91n_"
      },
      "source": [
        "speed_list = [\"Peregrine falcon\", \n",
        "              \"Golden eagle\", \n",
        "              \"White-throated needletail swift\", \n",
        "              \"Eurasian hobby\", \n",
        "              \"Mexican free-tailed bat\", \n",
        "              \"Frigatebird\", \n",
        "              \"Rock dove (pigeon)\", \n",
        "              \"Spur-winged goose\", \n",
        "              \"Gyrfalcon\", \n",
        "              \"Grey-headed albatross\", \n",
        "              \"Cheetah\", \n",
        "              \"Sailfish\", \n",
        "              \"Anna's hummingbird\", \n",
        "              \"Swordfish\", \n",
        "              \"Pronghorn\", \n",
        "              \"Springbok\", \n",
        "              \"Quarter Horse\", \n",
        "              \"Blue wildebeest\", \n",
        "              \"Lion\", \n",
        "              \"Blackbuck\"]"
      ],
      "execution_count": null,
      "outputs": []
    },
    {
      "cell_type": "markdown",
      "metadata": {
        "id": "Y-mesMNT91oA"
      },
      "source": [
        "Run the code above to save `speed_list`. Write code to save the speed_list as a pickle file called `speedyAnimals.pkl`"
      ]
    },
    {
      "cell_type": "code",
      "metadata": {
        "id": "9gqT03IK91oA"
      },
      "source": [
        "with open(\"speedyAnimals.pkl\", \"wb\") as f:\n",
        "    pickle.dump(speed_list, f)"
      ],
      "execution_count": null,
      "outputs": []
    },
    {
      "cell_type": "markdown",
      "metadata": {
        "id": "LtctoomA91oA"
      },
      "source": [
        "Now write code to open the pickle file you just created as a list called `pickle_list`."
      ]
    },
    {
      "cell_type": "code",
      "metadata": {
        "id": "rTz_oc6u91oA"
      },
      "source": [
        "with open(\"speedyAnimals.pkl\", \"rb\") as f:\n",
        "    pickle_list = pickle.load(f)"
      ],
      "execution_count": null,
      "outputs": []
    },
    {
      "cell_type": "code",
      "metadata": {
        "id": "__qWJLmJ91oA",
        "colab": {
          "base_uri": "https://localhost:8080/"
        },
        "outputId": "d7986651-cffd-4f81-ff24-86aadbea3d64"
      },
      "source": [
        "print(pickle_list)"
      ],
      "execution_count": null,
      "outputs": [
        {
          "output_type": "stream",
          "text": [
            "['Peregrine falcon', 'Golden eagle', 'White-throated needletail swift', 'Eurasian hobby', 'Mexican free-tailed bat', 'Frigatebird', 'Rock dove (pigeon)', 'Spur-winged goose', 'Gyrfalcon', 'Grey-headed albatross', 'Cheetah', 'Sailfish', \"Anna's hummingbird\", 'Swordfish', 'Pronghorn', 'Springbok', 'Quarter Horse', 'Blue wildebeest', 'Lion', 'Blackbuck']\n"
          ],
          "name": "stdout"
        }
      ]
    },
    {
      "cell_type": "markdown",
      "metadata": {
        "id": "hb0sNbxA91oA"
      },
      "source": [
        "<br><br>Notice that with both the dictionary and the list, pickle automatically maintained the type of Python object without us needing to specify what type of object it was. "
      ]
    },
    {
      "cell_type": "markdown",
      "metadata": {
        "id": "Gr84HvTW91oA"
      },
      "source": [
        "### <br><br>Let's practice with json."
      ]
    },
    {
      "cell_type": "code",
      "metadata": {
        "id": "ul57uIqt91oA"
      },
      "source": [
        "import json"
      ],
      "execution_count": null,
      "outputs": []
    },
    {
      "cell_type": "markdown",
      "metadata": {
        "id": "roAVvRPN91oB"
      },
      "source": [
        "<br>With json, we can open in regular write and read modes. We still use dump and load."
      ]
    },
    {
      "cell_type": "code",
      "metadata": {
        "id": "P9zS5UdJ91oB"
      },
      "source": [
        "with open(\"fastestAnimal.json\", \"w\") as f:\n",
        "    json.dump(speed_dict, f)"
      ],
      "execution_count": null,
      "outputs": []
    },
    {
      "cell_type": "code",
      "metadata": {
        "id": "jpCXAFnh91oB"
      },
      "source": [
        "with open(\"fastestAnimal.json\", \"r\") as f:\n",
        "    json_speed_dict = json.load(f)"
      ],
      "execution_count": null,
      "outputs": []
    },
    {
      "cell_type": "code",
      "metadata": {
        "id": "y4KNwxwn91oB",
        "colab": {
          "base_uri": "https://localhost:8080/"
        },
        "outputId": "db616f8f-e3dd-40c0-8bba-7401b33dcca3"
      },
      "source": [
        "json_speed_dict"
      ],
      "execution_count": null,
      "outputs": [
        {
          "output_type": "execute_result",
          "data": {
            "text/plain": [
              "{\"Anna's hummingbird\": '61.06 mph',\n",
              " 'Blackbuck': '50 mph',\n",
              " 'Blue wildebeest': '50.0 mph',\n",
              " 'Cheetah': '68.0–75.0 mph',\n",
              " 'Eurasian hobby': '100 mph',\n",
              " 'Frigatebird': '95 mph',\n",
              " 'Golden eagle': '150–200 mph',\n",
              " 'Grey-headed albatross': '79 mph',\n",
              " 'Gyrfalcon': '80 mph',\n",
              " 'Lion': '50.0 mph',\n",
              " 'Mexican free-tailed bat': '100 mph',\n",
              " 'Peregrine falcon': '242 mph',\n",
              " 'Pronghorn': '55.0 mph',\n",
              " 'Quarter Horse': '55.0 mph',\n",
              " 'Rock dove (pigeon)': '92.5 mph',\n",
              " 'Sailfish': '67.85 mph',\n",
              " 'Springbok': '55 mph',\n",
              " 'Spur-winged goose': '88 mph',\n",
              " 'Swordfish': '60 mph',\n",
              " 'White-throated needletail swift': '105 mph'}"
            ]
          },
          "metadata": {
            "tags": []
          },
          "execution_count": 28
        }
      ]
    },
    {
      "cell_type": "markdown",
      "metadata": {
        "id": "tpodbrxm91oB"
      },
      "source": [
        "### <br><br>Json Exercise"
      ]
    },
    {
      "cell_type": "code",
      "metadata": {
        "id": "Z235ufew91oB",
        "colab": {
          "base_uri": "https://localhost:8080/"
        },
        "outputId": "7b559f24-4d17-44dd-a19d-b887777226b1"
      },
      "source": [
        "falcon = \"Peregrine falcons are among the world's most common birds of prey and live on all continents except Antarctica. They prefer wide-open spaces, and thrive near coasts where shorebirds are common, but they can be found everywhere from tundra to deserts. Peregrines are even known to live on bridges and skyscrapers in major cities.\"\n",
        "print(falcon)"
      ],
      "execution_count": null,
      "outputs": [
        {
          "output_type": "stream",
          "text": [
            "Peregrine falcons are among the world's most common birds of prey and live on all continents except Antarctica. They prefer wide-open spaces, and thrive near coasts where shorebirds are common, but they can be found everywhere from tundra to deserts. Peregrines are even known to live on bridges and skyscrapers in major cities.\n"
          ],
          "name": "stdout"
        }
      ]
    },
    {
      "cell_type": "markdown",
      "metadata": {
        "id": "FPEP7jOt91oC"
      },
      "source": [
        "Run the code above to store the string `falcon`. Write code to save the string as a json file called `falcon_info.json`. "
      ]
    },
    {
      "cell_type": "code",
      "metadata": {
        "id": "wxnQEQoh91oC"
      },
      "source": [
        "with open(\"falcon_info.json\", \"w\") as f:\n",
        "    json.dump(falcon, f)"
      ],
      "execution_count": null,
      "outputs": []
    },
    {
      "cell_type": "markdown",
      "metadata": {
        "id": "7MzzFdYU91oC"
      },
      "source": [
        "Write code to open up the file you just created. Save it as a string `json_string`."
      ]
    },
    {
      "cell_type": "code",
      "metadata": {
        "id": "tY85sRwn91oC"
      },
      "source": [
        "with open(\"falcon_info.json\", \"r\") as f:\n",
        "    json_string = json.load(f)"
      ],
      "execution_count": null,
      "outputs": []
    },
    {
      "cell_type": "code",
      "metadata": {
        "id": "rmcAleMp91oC",
        "colab": {
          "base_uri": "https://localhost:8080/"
        },
        "outputId": "329722e5-4fcc-4fd6-adfd-c6d587b069de"
      },
      "source": [
        "print(json_string)"
      ],
      "execution_count": null,
      "outputs": [
        {
          "output_type": "stream",
          "text": [
            "Peregrine falcons are among the world's most common birds of prey and live on all continents except Antarctica. They prefer wide-open spaces, and thrive near coasts where shorebirds are common, but they can be found everywhere from tundra to deserts. Peregrines are even known to live on bridges and skyscrapers in major cities.\n"
          ],
          "name": "stdout"
        }
      ]
    },
    {
      "cell_type": "markdown",
      "metadata": {
        "id": "tcim0wpO91oC"
      },
      "source": [
        "### <br><br>BONUS: Saving pandas dataframes"
      ]
    },
    {
      "cell_type": "markdown",
      "metadata": {
        "id": "rH805UaQ91oC"
      },
      "source": [
        "You can always save a pandas dataframe as a csv, which is a type of plain text file that is human readable. You can also save a dataframe as a pickle or json file, which are faster to write and faster to read."
      ]
    },
    {
      "cell_type": "code",
      "metadata": {
        "id": "U3kZpKXc91oC"
      },
      "source": [
        "import pandas as pd"
      ],
      "execution_count": null,
      "outputs": []
    },
    {
      "cell_type": "code",
      "metadata": {
        "id": "Y94NKQxi91oD"
      },
      "source": [
        "df = pd.DataFrame.from_dict(speed_dict, orient=\"index\", columns=[\"speed\"])"
      ],
      "execution_count": null,
      "outputs": []
    },
    {
      "cell_type": "code",
      "metadata": {
        "id": "-PMuqX0V91oD",
        "colab": {
          "base_uri": "https://localhost:8080/",
          "height": 669
        },
        "outputId": "9eafa23f-d1a1-4027-ac13-e4898845b9f8"
      },
      "source": [
        "df"
      ],
      "execution_count": null,
      "outputs": [
        {
          "output_type": "execute_result",
          "data": {
            "text/html": [
              "<div>\n",
              "<style scoped>\n",
              "    .dataframe tbody tr th:only-of-type {\n",
              "        vertical-align: middle;\n",
              "    }\n",
              "\n",
              "    .dataframe tbody tr th {\n",
              "        vertical-align: top;\n",
              "    }\n",
              "\n",
              "    .dataframe thead th {\n",
              "        text-align: right;\n",
              "    }\n",
              "</style>\n",
              "<table border=\"1\" class=\"dataframe\">\n",
              "  <thead>\n",
              "    <tr style=\"text-align: right;\">\n",
              "      <th></th>\n",
              "      <th>speed</th>\n",
              "    </tr>\n",
              "  </thead>\n",
              "  <tbody>\n",
              "    <tr>\n",
              "      <th>Peregrine falcon</th>\n",
              "      <td>242 mph</td>\n",
              "    </tr>\n",
              "    <tr>\n",
              "      <th>Golden eagle</th>\n",
              "      <td>150–200 mph</td>\n",
              "    </tr>\n",
              "    <tr>\n",
              "      <th>White-throated needletail swift</th>\n",
              "      <td>105 mph</td>\n",
              "    </tr>\n",
              "    <tr>\n",
              "      <th>Eurasian hobby</th>\n",
              "      <td>100 mph</td>\n",
              "    </tr>\n",
              "    <tr>\n",
              "      <th>Mexican free-tailed bat</th>\n",
              "      <td>100 mph</td>\n",
              "    </tr>\n",
              "    <tr>\n",
              "      <th>Frigatebird</th>\n",
              "      <td>95 mph</td>\n",
              "    </tr>\n",
              "    <tr>\n",
              "      <th>Rock dove (pigeon)</th>\n",
              "      <td>92.5 mph</td>\n",
              "    </tr>\n",
              "    <tr>\n",
              "      <th>Spur-winged goose</th>\n",
              "      <td>88 mph</td>\n",
              "    </tr>\n",
              "    <tr>\n",
              "      <th>Gyrfalcon</th>\n",
              "      <td>80 mph</td>\n",
              "    </tr>\n",
              "    <tr>\n",
              "      <th>Grey-headed albatross</th>\n",
              "      <td>79 mph</td>\n",
              "    </tr>\n",
              "    <tr>\n",
              "      <th>Cheetah</th>\n",
              "      <td>68.0–75.0 mph</td>\n",
              "    </tr>\n",
              "    <tr>\n",
              "      <th>Sailfish</th>\n",
              "      <td>67.85 mph</td>\n",
              "    </tr>\n",
              "    <tr>\n",
              "      <th>Anna's hummingbird</th>\n",
              "      <td>61.06 mph</td>\n",
              "    </tr>\n",
              "    <tr>\n",
              "      <th>Swordfish</th>\n",
              "      <td>60 mph</td>\n",
              "    </tr>\n",
              "    <tr>\n",
              "      <th>Pronghorn</th>\n",
              "      <td>55.0 mph</td>\n",
              "    </tr>\n",
              "    <tr>\n",
              "      <th>Springbok</th>\n",
              "      <td>55 mph</td>\n",
              "    </tr>\n",
              "    <tr>\n",
              "      <th>Quarter Horse</th>\n",
              "      <td>55.0 mph</td>\n",
              "    </tr>\n",
              "    <tr>\n",
              "      <th>Blue wildebeest</th>\n",
              "      <td>50.0 mph</td>\n",
              "    </tr>\n",
              "    <tr>\n",
              "      <th>Lion</th>\n",
              "      <td>50.0 mph</td>\n",
              "    </tr>\n",
              "    <tr>\n",
              "      <th>Blackbuck</th>\n",
              "      <td>50 mph</td>\n",
              "    </tr>\n",
              "  </tbody>\n",
              "</table>\n",
              "</div>"
            ],
            "text/plain": [
              "                                         speed\n",
              "Peregrine falcon                       242 mph\n",
              "Golden eagle                       150–200 mph\n",
              "White-throated needletail swift        105 mph\n",
              "Eurasian hobby                         100 mph\n",
              "Mexican free-tailed bat                100 mph\n",
              "Frigatebird                             95 mph\n",
              "Rock dove (pigeon)                    92.5 mph\n",
              "Spur-winged goose                       88 mph\n",
              "Gyrfalcon                               80 mph\n",
              "Grey-headed albatross                   79 mph\n",
              "Cheetah                          68.0–75.0 mph\n",
              "Sailfish                             67.85 mph\n",
              "Anna's hummingbird                   61.06 mph\n",
              "Swordfish                               60 mph\n",
              "Pronghorn                             55.0 mph\n",
              "Springbok                               55 mph\n",
              "Quarter Horse                         55.0 mph\n",
              "Blue wildebeest                       50.0 mph\n",
              "Lion                                  50.0 mph\n",
              "Blackbuck                               50 mph"
            ]
          },
          "metadata": {
            "tags": []
          },
          "execution_count": 36
        }
      ]
    },
    {
      "cell_type": "markdown",
      "metadata": {
        "id": "RFc60iyg91oD"
      },
      "source": [
        "<br>Now that we have a dataframe, we can save it as a csv:"
      ]
    },
    {
      "cell_type": "code",
      "metadata": {
        "id": "5PDIxw_f91oD"
      },
      "source": [
        "df.to_csv(\"speeds.csv\")"
      ],
      "execution_count": null,
      "outputs": []
    },
    {
      "cell_type": "markdown",
      "metadata": {
        "id": "wmB_hDPG91oD"
      },
      "source": [
        "<br>Or we can save it as a pickle:"
      ]
    },
    {
      "cell_type": "code",
      "metadata": {
        "id": "tfHOzwpe91oD"
      },
      "source": [
        "df.to_pickle(\"speeds.pkl\")"
      ],
      "execution_count": null,
      "outputs": []
    },
    {
      "cell_type": "markdown",
      "metadata": {
        "id": "exTuTy4a91oD"
      },
      "source": [
        "<br>To confirm that it worked, let's load our pickled dataframe back in:"
      ]
    },
    {
      "cell_type": "code",
      "metadata": {
        "id": "zdjA_Jo291oD"
      },
      "source": [
        "df2 = pd.read_pickle(\"speeds.pkl\")"
      ],
      "execution_count": null,
      "outputs": []
    },
    {
      "cell_type": "code",
      "metadata": {
        "id": "bTBMBoIG91oE",
        "colab": {
          "base_uri": "https://localhost:8080/",
          "height": 669
        },
        "outputId": "d35dc3da-e277-4bde-bd06-b83e06657cbf"
      },
      "source": [
        "df2"
      ],
      "execution_count": null,
      "outputs": [
        {
          "output_type": "execute_result",
          "data": {
            "text/html": [
              "<div>\n",
              "<style scoped>\n",
              "    .dataframe tbody tr th:only-of-type {\n",
              "        vertical-align: middle;\n",
              "    }\n",
              "\n",
              "    .dataframe tbody tr th {\n",
              "        vertical-align: top;\n",
              "    }\n",
              "\n",
              "    .dataframe thead th {\n",
              "        text-align: right;\n",
              "    }\n",
              "</style>\n",
              "<table border=\"1\" class=\"dataframe\">\n",
              "  <thead>\n",
              "    <tr style=\"text-align: right;\">\n",
              "      <th></th>\n",
              "      <th>speed</th>\n",
              "    </tr>\n",
              "  </thead>\n",
              "  <tbody>\n",
              "    <tr>\n",
              "      <th>Peregrine falcon</th>\n",
              "      <td>242 mph</td>\n",
              "    </tr>\n",
              "    <tr>\n",
              "      <th>Golden eagle</th>\n",
              "      <td>150–200 mph</td>\n",
              "    </tr>\n",
              "    <tr>\n",
              "      <th>White-throated needletail swift</th>\n",
              "      <td>105 mph</td>\n",
              "    </tr>\n",
              "    <tr>\n",
              "      <th>Eurasian hobby</th>\n",
              "      <td>100 mph</td>\n",
              "    </tr>\n",
              "    <tr>\n",
              "      <th>Mexican free-tailed bat</th>\n",
              "      <td>100 mph</td>\n",
              "    </tr>\n",
              "    <tr>\n",
              "      <th>Frigatebird</th>\n",
              "      <td>95 mph</td>\n",
              "    </tr>\n",
              "    <tr>\n",
              "      <th>Rock dove (pigeon)</th>\n",
              "      <td>92.5 mph</td>\n",
              "    </tr>\n",
              "    <tr>\n",
              "      <th>Spur-winged goose</th>\n",
              "      <td>88 mph</td>\n",
              "    </tr>\n",
              "    <tr>\n",
              "      <th>Gyrfalcon</th>\n",
              "      <td>80 mph</td>\n",
              "    </tr>\n",
              "    <tr>\n",
              "      <th>Grey-headed albatross</th>\n",
              "      <td>79 mph</td>\n",
              "    </tr>\n",
              "    <tr>\n",
              "      <th>Cheetah</th>\n",
              "      <td>68.0–75.0 mph</td>\n",
              "    </tr>\n",
              "    <tr>\n",
              "      <th>Sailfish</th>\n",
              "      <td>67.85 mph</td>\n",
              "    </tr>\n",
              "    <tr>\n",
              "      <th>Anna's hummingbird</th>\n",
              "      <td>61.06 mph</td>\n",
              "    </tr>\n",
              "    <tr>\n",
              "      <th>Swordfish</th>\n",
              "      <td>60 mph</td>\n",
              "    </tr>\n",
              "    <tr>\n",
              "      <th>Pronghorn</th>\n",
              "      <td>55.0 mph</td>\n",
              "    </tr>\n",
              "    <tr>\n",
              "      <th>Springbok</th>\n",
              "      <td>55 mph</td>\n",
              "    </tr>\n",
              "    <tr>\n",
              "      <th>Quarter Horse</th>\n",
              "      <td>55.0 mph</td>\n",
              "    </tr>\n",
              "    <tr>\n",
              "      <th>Blue wildebeest</th>\n",
              "      <td>50.0 mph</td>\n",
              "    </tr>\n",
              "    <tr>\n",
              "      <th>Lion</th>\n",
              "      <td>50.0 mph</td>\n",
              "    </tr>\n",
              "    <tr>\n",
              "      <th>Blackbuck</th>\n",
              "      <td>50 mph</td>\n",
              "    </tr>\n",
              "  </tbody>\n",
              "</table>\n",
              "</div>"
            ],
            "text/plain": [
              "                                         speed\n",
              "Peregrine falcon                       242 mph\n",
              "Golden eagle                       150–200 mph\n",
              "White-throated needletail swift        105 mph\n",
              "Eurasian hobby                         100 mph\n",
              "Mexican free-tailed bat                100 mph\n",
              "Frigatebird                             95 mph\n",
              "Rock dove (pigeon)                    92.5 mph\n",
              "Spur-winged goose                       88 mph\n",
              "Gyrfalcon                               80 mph\n",
              "Grey-headed albatross                   79 mph\n",
              "Cheetah                          68.0–75.0 mph\n",
              "Sailfish                             67.85 mph\n",
              "Anna's hummingbird                   61.06 mph\n",
              "Swordfish                               60 mph\n",
              "Pronghorn                             55.0 mph\n",
              "Springbok                               55 mph\n",
              "Quarter Horse                         55.0 mph\n",
              "Blue wildebeest                       50.0 mph\n",
              "Lion                                  50.0 mph\n",
              "Blackbuck                               50 mph"
            ]
          },
          "metadata": {
            "tags": []
          },
          "execution_count": 43
        }
      ]
    },
    {
      "cell_type": "markdown",
      "metadata": {
        "id": "KmafALu691oE"
      },
      "source": [
        "<br>You can also pickle a dataframe object the same way we did earlier, by opening a new file in write binary mode and dumping the dataframe."
      ]
    },
    {
      "cell_type": "markdown",
      "metadata": {
        "id": "zzaDEn2n91oE"
      },
      "source": [
        "<br>Let's save our dataframe with json. You **cannot** save a dataframe as a json file using the open/dump method, but you can use this pandas function:"
      ]
    },
    {
      "cell_type": "code",
      "metadata": {
        "id": "mQQuhW_w91oE"
      },
      "source": [
        "df.to_json(\"speeds.json\")"
      ],
      "execution_count": null,
      "outputs": []
    },
    {
      "cell_type": "code",
      "metadata": {
        "id": "YjaaSOq891oE"
      },
      "source": [
        "df3 = pd.read_json(\"speeds.json\")"
      ],
      "execution_count": null,
      "outputs": []
    },
    {
      "cell_type": "code",
      "metadata": {
        "id": "wT0N-yYr91oE",
        "colab": {
          "base_uri": "https://localhost:8080/",
          "height": 669
        },
        "outputId": "363b1b0b-82e2-4d75-8851-6703fe5351ed"
      },
      "source": [
        "df3"
      ],
      "execution_count": null,
      "outputs": [
        {
          "output_type": "execute_result",
          "data": {
            "text/html": [
              "<div>\n",
              "<style scoped>\n",
              "    .dataframe tbody tr th:only-of-type {\n",
              "        vertical-align: middle;\n",
              "    }\n",
              "\n",
              "    .dataframe tbody tr th {\n",
              "        vertical-align: top;\n",
              "    }\n",
              "\n",
              "    .dataframe thead th {\n",
              "        text-align: right;\n",
              "    }\n",
              "</style>\n",
              "<table border=\"1\" class=\"dataframe\">\n",
              "  <thead>\n",
              "    <tr style=\"text-align: right;\">\n",
              "      <th></th>\n",
              "      <th>speed</th>\n",
              "    </tr>\n",
              "  </thead>\n",
              "  <tbody>\n",
              "    <tr>\n",
              "      <th>Anna's hummingbird</th>\n",
              "      <td>61.06 mph</td>\n",
              "    </tr>\n",
              "    <tr>\n",
              "      <th>Blackbuck</th>\n",
              "      <td>50 mph</td>\n",
              "    </tr>\n",
              "    <tr>\n",
              "      <th>Blue wildebeest</th>\n",
              "      <td>50.0 mph</td>\n",
              "    </tr>\n",
              "    <tr>\n",
              "      <th>Cheetah</th>\n",
              "      <td>68.0–75.0 mph</td>\n",
              "    </tr>\n",
              "    <tr>\n",
              "      <th>Eurasian hobby</th>\n",
              "      <td>100 mph</td>\n",
              "    </tr>\n",
              "    <tr>\n",
              "      <th>Frigatebird</th>\n",
              "      <td>95 mph</td>\n",
              "    </tr>\n",
              "    <tr>\n",
              "      <th>Golden eagle</th>\n",
              "      <td>150–200 mph</td>\n",
              "    </tr>\n",
              "    <tr>\n",
              "      <th>Grey-headed albatross</th>\n",
              "      <td>79 mph</td>\n",
              "    </tr>\n",
              "    <tr>\n",
              "      <th>Gyrfalcon</th>\n",
              "      <td>80 mph</td>\n",
              "    </tr>\n",
              "    <tr>\n",
              "      <th>Lion</th>\n",
              "      <td>50.0 mph</td>\n",
              "    </tr>\n",
              "    <tr>\n",
              "      <th>Mexican free-tailed bat</th>\n",
              "      <td>100 mph</td>\n",
              "    </tr>\n",
              "    <tr>\n",
              "      <th>Peregrine falcon</th>\n",
              "      <td>242 mph</td>\n",
              "    </tr>\n",
              "    <tr>\n",
              "      <th>Pronghorn</th>\n",
              "      <td>55.0 mph</td>\n",
              "    </tr>\n",
              "    <tr>\n",
              "      <th>Quarter Horse</th>\n",
              "      <td>55.0 mph</td>\n",
              "    </tr>\n",
              "    <tr>\n",
              "      <th>Rock dove (pigeon)</th>\n",
              "      <td>92.5 mph</td>\n",
              "    </tr>\n",
              "    <tr>\n",
              "      <th>Sailfish</th>\n",
              "      <td>67.85 mph</td>\n",
              "    </tr>\n",
              "    <tr>\n",
              "      <th>Springbok</th>\n",
              "      <td>55 mph</td>\n",
              "    </tr>\n",
              "    <tr>\n",
              "      <th>Spur-winged goose</th>\n",
              "      <td>88 mph</td>\n",
              "    </tr>\n",
              "    <tr>\n",
              "      <th>Swordfish</th>\n",
              "      <td>60 mph</td>\n",
              "    </tr>\n",
              "    <tr>\n",
              "      <th>White-throated needletail swift</th>\n",
              "      <td>105 mph</td>\n",
              "    </tr>\n",
              "  </tbody>\n",
              "</table>\n",
              "</div>"
            ],
            "text/plain": [
              "                                         speed\n",
              "Anna's hummingbird                   61.06 mph\n",
              "Blackbuck                               50 mph\n",
              "Blue wildebeest                       50.0 mph\n",
              "Cheetah                          68.0–75.0 mph\n",
              "Eurasian hobby                         100 mph\n",
              "Frigatebird                             95 mph\n",
              "Golden eagle                       150–200 mph\n",
              "Grey-headed albatross                   79 mph\n",
              "Gyrfalcon                               80 mph\n",
              "Lion                                  50.0 mph\n",
              "Mexican free-tailed bat                100 mph\n",
              "Peregrine falcon                       242 mph\n",
              "Pronghorn                             55.0 mph\n",
              "Quarter Horse                         55.0 mph\n",
              "Rock dove (pigeon)                    92.5 mph\n",
              "Sailfish                             67.85 mph\n",
              "Springbok                               55 mph\n",
              "Spur-winged goose                       88 mph\n",
              "Swordfish                               60 mph\n",
              "White-throated needletail swift        105 mph"
            ]
          },
          "metadata": {
            "tags": []
          },
          "execution_count": 46
        }
      ]
    },
    {
      "cell_type": "markdown",
      "metadata": {
        "id": "nxgVH0yV91oE"
      },
      "source": [
        "<br>There are other formats you can use to serialize pandas dataframes that are safer and faster than pickle, including *feather* and *parquet*. "
      ]
    },
    {
      "cell_type": "markdown",
      "metadata": {
        "id": "qwSjINHu91oE"
      },
      "source": [
        "<br>Also, keep in mind that json and pickle are used for storing and loading your Python objects faster, but they are not used for compression. If smaller file size is your goal, you will want to use a compression package, with or without serialization, like gzip or brotli."
      ]
    },
    {
      "cell_type": "code",
      "metadata": {
        "id": "WAVy48K591oF"
      },
      "source": [
        ""
      ],
      "execution_count": null,
      "outputs": []
    }
  ]
}